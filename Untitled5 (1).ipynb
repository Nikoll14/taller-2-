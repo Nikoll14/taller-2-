{
  "nbformat": 4,
  "nbformat_minor": 0,
  "metadata": {
    "colab": {
      "provenance": []
    },
    "kernelspec": {
      "name": "python3",
      "display_name": "Python 3"
    },
    "language_info": {
      "name": "python"
    }
  },
  "cells": [
    {
      "cell_type": "code",
      "source": [
        "pip install wooldridge"
      ],
      "metadata": {
        "colab": {
          "base_uri": "https://localhost:8080/"
        },
        "id": "zlyqOq_Q-sVw",
        "outputId": "59f0e9e2-caeb-4a74-de56-404cb50f2768"
      },
      "execution_count": 5,
      "outputs": [
        {
          "output_type": "stream",
          "name": "stdout",
          "text": [
            "Looking in indexes: https://pypi.org/simple, https://us-python.pkg.dev/colab-wheels/public/simple/\n",
            "Collecting wooldridge\n",
            "  Downloading wooldridge-0.4.4-py3-none-any.whl (5.1 MB)\n",
            "\u001b[2K     \u001b[90m━━━━━━━━━━━━━━━━━━━━━━━━━━━━━━━━━━━━━━━━\u001b[0m \u001b[32m5.1/5.1 MB\u001b[0m \u001b[31m37.6 MB/s\u001b[0m eta \u001b[36m0:00:00\u001b[0m\n",
            "\u001b[?25hRequirement already satisfied: pandas in /usr/local/lib/python3.9/dist-packages (from wooldridge) (1.5.3)\n",
            "Requirement already satisfied: pytz>=2020.1 in /usr/local/lib/python3.9/dist-packages (from pandas->wooldridge) (2022.7.1)\n",
            "Requirement already satisfied: numpy>=1.20.3 in /usr/local/lib/python3.9/dist-packages (from pandas->wooldridge) (1.22.4)\n",
            "Requirement already satisfied: python-dateutil>=2.8.1 in /usr/local/lib/python3.9/dist-packages (from pandas->wooldridge) (2.8.2)\n",
            "Requirement already satisfied: six>=1.5 in /usr/local/lib/python3.9/dist-packages (from python-dateutil>=2.8.1->pandas->wooldridge) (1.16.0)\n",
            "Installing collected packages: wooldridge\n",
            "Successfully installed wooldridge-0.4.4\n"
          ]
        }
      ]
    },
    {
      "cell_type": "code",
      "source": [
        "import numpy as np\n"
      ],
      "metadata": {
        "id": "e5L7P5NO_je2"
      },
      "execution_count": 17,
      "outputs": []
    },
    {
      "cell_type": "code",
      "source": [
        "import pandas as pd"
      ],
      "metadata": {
        "id": "iJs6dDCkEORH"
      },
      "execution_count": 18,
      "outputs": []
    },
    {
      "cell_type": "code",
      "source": [
        "import wooldridge as wd"
      ],
      "metadata": {
        "id": "N8cugwTZEOBP"
      },
      "execution_count": 19,
      "outputs": []
    },
    {
      "cell_type": "code",
      "source": [
        "wage= wd.data ('wage1')[['wage', 'educ', 'exper']]\n",
        "wage"
      ],
      "metadata": {
        "id": "F44BsnWgEW1l"
      },
      "execution_count": null,
      "outputs": []
    },
    {
      "cell_type": "code",
      "source": [
        "y=wage['wage'].to_numpy()\n",
        "y\n",
        "x= wage[['educ', 'exper']].to_numpy()\n",
        "x\n"
      ],
      "metadata": {
        "colab": {
          "base_uri": "https://localhost:8080/"
        },
        "id": "ZBFnCgRa_rLE",
        "outputId": "bca5ef20-d8a7-4bad-84bf-fcf5fd83ed8a"
      },
      "execution_count": 37,
      "outputs": [
        {
          "output_type": "execute_result",
          "data": {
            "text/plain": [
              "array([[11,  2],\n",
              "       [12, 22],\n",
              "       [11,  2],\n",
              "       ...,\n",
              "       [15, 13],\n",
              "       [16,  5],\n",
              "       [14,  5]])"
            ]
          },
          "metadata": {},
          "execution_count": 37
        }
      ]
    },
    {
      "cell_type": "code",
      "source": [
        "x= np.c_[np.ones(len(x)),x]\n",
        "x"
      ],
      "metadata": {
        "colab": {
          "base_uri": "https://localhost:8080/"
        },
        "id": "U01y0CbTAfyt",
        "outputId": "33dac1cd-0e3c-49cd-8dc2-5558147d76d4"
      },
      "execution_count": 38,
      "outputs": [
        {
          "output_type": "execute_result",
          "data": {
            "text/plain": [
              "array([[ 1., 11.,  2.],\n",
              "       [ 1., 12., 22.],\n",
              "       [ 1., 11.,  2.],\n",
              "       ...,\n",
              "       [ 1., 15., 13.],\n",
              "       [ 1., 16.,  5.],\n",
              "       [ 1., 14.,  5.]])"
            ]
          },
          "metadata": {},
          "execution_count": 38
        }
      ]
    },
    {
      "cell_type": "markdown",
      "source": [
        "betas"
      ],
      "metadata": {
        "id": "TrthMMMWFwwD"
      }
    },
    {
      "cell_type": "code",
      "source": [
        "betas=np.linalg.inv(x.T.dot(x)).dot(x.T.dot(y))\n",
        "betas"
      ],
      "metadata": {
        "colab": {
          "base_uri": "https://localhost:8080/"
        },
        "id": "jd3WkYksFLVs",
        "outputId": "396a8f0e-7082-4e63-9d60-484864c5dadb"
      },
      "execution_count": 39,
      "outputs": [
        {
          "output_type": "execute_result",
          "data": {
            "text/plain": [
              "array([-3.39053946,  0.64427208,  0.0700954 ])"
            ]
          },
          "metadata": {},
          "execution_count": 39
        }
      ]
    },
    {
      "cell_type": "markdown",
      "source": [
        "error estandar"
      ],
      "metadata": {
        "id": "no7vH-NbF0AD"
      }
    },
    {
      "cell_type": "code",
      "source": [
        "y_est = x.dot(betas)\n"
      ],
      "metadata": {
        "id": "vwq28S4dJI01"
      },
      "execution_count": 54,
      "outputs": []
    },
    {
      "cell_type": "code",
      "source": [
        "u = y-y_est"
      ],
      "metadata": {
        "id": "a0PqnDBfJbay"
      },
      "execution_count": 55,
      "outputs": []
    },
    {
      "cell_type": "code",
      "source": [
        "n,k = x.shape\n",
        "n,k"
      ],
      "metadata": {
        "colab": {
          "base_uri": "https://localhost:8080/"
        },
        "id": "qUNHo3roL5Mz",
        "outputId": "ec3376a9-a042-44bd-eda0-b72d3fc80b01"
      },
      "execution_count": 47,
      "outputs": [
        {
          "output_type": "execute_result",
          "data": {
            "text/plain": [
              "(526, 3)"
            ]
          },
          "metadata": {},
          "execution_count": 47
        }
      ]
    },
    {
      "cell_type": "code",
      "source": [
        "sigma = sum(u**2)/(n-k)"
      ],
      "metadata": {
        "id": "KBILmcrmJ3NB"
      },
      "execution_count": 58,
      "outputs": []
    },
    {
      "cell_type": "code",
      "source": [
        "x.T"
      ],
      "metadata": {
        "colab": {
          "base_uri": "https://localhost:8080/"
        },
        "id": "kSStdXXLL1E7",
        "outputId": "6fc28217-64c8-4142-ea67-3c0a9b52f7d2"
      },
      "execution_count": 50,
      "outputs": [
        {
          "output_type": "execute_result",
          "data": {
            "text/plain": [
              "array([[ 1.,  1.,  1., ...,  1.,  1.,  1.],\n",
              "       [11., 12., 11., ..., 15., 16., 14.],\n",
              "       [ 2., 22.,  2., ..., 13.,  5.,  5.]])"
            ]
          },
          "metadata": {},
          "execution_count": 50
        }
      ]
    },
    {
      "cell_type": "code",
      "source": [
        "x.T.dot(x)"
      ],
      "metadata": {
        "colab": {
          "base_uri": "https://localhost:8080/"
        },
        "id": "VsiiwcsgMJm7",
        "outputId": "36e3564b-4e58-40e8-bd93-1132a17c64ac"
      },
      "execution_count": 51,
      "outputs": [
        {
          "output_type": "execute_result",
          "data": {
            "text/plain": [
              "array([[   526.,   6608.,   8951.],\n",
              "       [  6608.,  87040., 106539.],\n",
              "       [  8951., 106539., 249027.]])"
            ]
          },
          "metadata": {},
          "execution_count": 51
        }
      ]
    },
    {
      "cell_type": "code",
      "source": [
        "ee=np.diag(np.sqrt(np.linalg.inv(x.T.dot(x))*sigma))\n",
        "ee"
      ],
      "metadata": {
        "colab": {
          "base_uri": "https://localhost:8080/"
        },
        "id": "J8dGuUW5MPD7",
        "outputId": "9c4467c9-55bd-4afc-cd1a-0909a6417b44"
      },
      "execution_count": 59,
      "outputs": [
        {
          "output_type": "stream",
          "name": "stderr",
          "text": [
            "<ipython-input-59-e0b44b2bf56c>:1: RuntimeWarning: invalid value encountered in sqrt\n",
            "  ee=np.diag(np.sqrt(np.linalg.inv(x.T.dot(x))*sigma))\n"
          ]
        },
        {
          "output_type": "execute_result",
          "data": {
            "text/plain": [
              "array([0.76656609, 0.05380607, 0.01097764])"
            ]
          },
          "metadata": {},
          "execution_count": 59
        }
      ]
    },
    {
      "cell_type": "code",
      "source": [
        "t=betas/ee\n",
        "t"
      ],
      "metadata": {
        "colab": {
          "base_uri": "https://localhost:8080/"
        },
        "id": "zBm4bw6HMgja",
        "outputId": "55e24b8a-91d0-407e-d01c-0c44dae1e06a"
      },
      "execution_count": 61,
      "outputs": [
        {
          "output_type": "execute_result",
          "data": {
            "text/plain": [
              "array([-4.423023  , 11.97396614,  6.38529107])"
            ]
          },
          "metadata": {},
          "execution_count": 61
        }
      ]
    },
    {
      "cell_type": "code",
      "source": [
        "betas + (1.96 * ee)"
      ],
      "metadata": {
        "colab": {
          "base_uri": "https://localhost:8080/"
        },
        "id": "3DXbipFvOVeV",
        "outputId": "bd348e96-a4ff-4259-db57-bc3793c0e7d9"
      },
      "execution_count": 62,
      "outputs": [
        {
          "output_type": "execute_result",
          "data": {
            "text/plain": [
              "array([-1.88806992,  0.74973198,  0.09161156])"
            ]
          },
          "metadata": {},
          "execution_count": 62
        }
      ]
    },
    {
      "cell_type": "code",
      "source": [
        "betas - (1.96 * ee)"
      ],
      "metadata": {
        "colab": {
          "base_uri": "https://localhost:8080/"
        },
        "id": "LgomoqD1PZXS",
        "outputId": "65db6ce7-ae52-4e89-9f90-0a1f711f35f5"
      },
      "execution_count": 63,
      "outputs": [
        {
          "output_type": "execute_result",
          "data": {
            "text/plain": [
              "array([-4.89300901,  0.53881218,  0.04857923])"
            ]
          },
          "metadata": {},
          "execution_count": 63
        }
      ]
    },
    {
      "cell_type": "markdown",
      "source": [
        "const es estadisticamente significativa \n",
        "\n",
        "educ. es estadisticamente significatica por tanto rechaza la hipotesis nula \n",
        "exp: es estadisticamebte significativa por tanto rechaza la hipotesis nula "
      ],
      "metadata": {
        "id": "ldB0OQbwP935"
      }
    },
    {
      "cell_type": "code",
      "source": [],
      "metadata": {
        "id": "Fz6FYq_LPd9y"
      },
      "execution_count": null,
      "outputs": []
    }
  ]
}